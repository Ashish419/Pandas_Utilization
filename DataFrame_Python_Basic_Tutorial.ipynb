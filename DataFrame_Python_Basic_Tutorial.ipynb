{
 "cells": [
  {
   "cell_type": "markdown",
   "metadata": {},
   "source": [
    "# Pulling Data from Series"
   ]
  },
  {
   "cell_type": "code",
   "execution_count": 146,
   "metadata": {},
   "outputs": [],
   "source": [
    "import pandas as pd\n",
    "import numpy as np\n",
    "from datetime import datetime\n",
    "\n",
    "#Creating Series\n",
    "data_series=pd.read_csv('C:\\\\Users\\\\assharma\\\\Downloads\\\\netflix-shows\\\\netflix_titles_nov_2019.csv')\n",
    "title_series=pd.Series(data_series['title'])\n",
    "date_added_series=pd.DataFrame(data_series['date_added'])\n",
    "show_id_series=pd.Series(data_series['show_id'])"
   ]
  },
  {
   "cell_type": "code",
   "execution_count": 147,
   "metadata": {},
   "outputs": [
    {
     "ename": "AttributeError",
     "evalue": "'DataFrame' object has no attribute 'split'",
     "output_type": "error",
     "traceback": [
      "\u001b[1;31m---------------------------------------------------------------------------\u001b[0m",
      "\u001b[1;31mAttributeError\u001b[0m                            Traceback (most recent call last)",
      "\u001b[1;32m<ipython-input-147-81a5c8998783>\u001b[0m in \u001b[0;36m<module>\u001b[1;34m\u001b[0m\n\u001b[0;32m      4\u001b[0m \u001b[1;31m#print(sub_date)\u001b[0m\u001b[1;33m\u001b[0m\u001b[1;33m\u001b[0m\u001b[1;33m\u001b[0m\u001b[0m\n\u001b[0;32m      5\u001b[0m \u001b[1;33m\u001b[0m\u001b[0m\n\u001b[1;32m----> 6\u001b[1;33m \u001b[0msplit_value\u001b[0m\u001b[1;33m=\u001b[0m\u001b[1;33m[\u001b[0m\u001b[0mx\u001b[0m\u001b[1;33m.\u001b[0m\u001b[0mstrip\u001b[0m\u001b[1;33m(\u001b[0m\u001b[1;33m)\u001b[0m \u001b[1;32mfor\u001b[0m \u001b[0mx\u001b[0m \u001b[1;32min\u001b[0m  \u001b[0mdate_added_series\u001b[0m\u001b[1;33m.\u001b[0m\u001b[0msplit\u001b[0m\u001b[1;33m(\u001b[0m\u001b[1;34m','\u001b[0m\u001b[1;33m)\u001b[0m\u001b[1;33m]\u001b[0m\u001b[1;33m\u001b[0m\u001b[1;33m\u001b[0m\u001b[0m\n\u001b[0m\u001b[0;32m      7\u001b[0m \u001b[1;33m\u001b[0m\u001b[0m\n\u001b[0;32m      8\u001b[0m \u001b[0mprint\u001b[0m\u001b[1;33m(\u001b[0m\u001b[0msplit_value\u001b[0m\u001b[1;33m)\u001b[0m\u001b[1;33m\u001b[0m\u001b[1;33m\u001b[0m\u001b[0m\n",
      "\u001b[1;32m~\\AppData\\Local\\Continuum\\anaconda3\\lib\\site-packages\\pandas\\core\\generic.py\u001b[0m in \u001b[0;36m__getattr__\u001b[1;34m(self, name)\u001b[0m\n\u001b[0;32m   5177\u001b[0m             \u001b[1;32mif\u001b[0m \u001b[0mself\u001b[0m\u001b[1;33m.\u001b[0m\u001b[0m_info_axis\u001b[0m\u001b[1;33m.\u001b[0m\u001b[0m_can_hold_identifiers_and_holds_name\u001b[0m\u001b[1;33m(\u001b[0m\u001b[0mname\u001b[0m\u001b[1;33m)\u001b[0m\u001b[1;33m:\u001b[0m\u001b[1;33m\u001b[0m\u001b[1;33m\u001b[0m\u001b[0m\n\u001b[0;32m   5178\u001b[0m                 \u001b[1;32mreturn\u001b[0m \u001b[0mself\u001b[0m\u001b[1;33m[\u001b[0m\u001b[0mname\u001b[0m\u001b[1;33m]\u001b[0m\u001b[1;33m\u001b[0m\u001b[1;33m\u001b[0m\u001b[0m\n\u001b[1;32m-> 5179\u001b[1;33m             \u001b[1;32mreturn\u001b[0m \u001b[0mobject\u001b[0m\u001b[1;33m.\u001b[0m\u001b[0m__getattribute__\u001b[0m\u001b[1;33m(\u001b[0m\u001b[0mself\u001b[0m\u001b[1;33m,\u001b[0m \u001b[0mname\u001b[0m\u001b[1;33m)\u001b[0m\u001b[1;33m\u001b[0m\u001b[1;33m\u001b[0m\u001b[0m\n\u001b[0m\u001b[0;32m   5180\u001b[0m \u001b[1;33m\u001b[0m\u001b[0m\n\u001b[0;32m   5181\u001b[0m     \u001b[1;32mdef\u001b[0m \u001b[0m__setattr__\u001b[0m\u001b[1;33m(\u001b[0m\u001b[0mself\u001b[0m\u001b[1;33m,\u001b[0m \u001b[0mname\u001b[0m\u001b[1;33m,\u001b[0m \u001b[0mvalue\u001b[0m\u001b[1;33m)\u001b[0m\u001b[1;33m:\u001b[0m\u001b[1;33m\u001b[0m\u001b[1;33m\u001b[0m\u001b[0m\n",
      "\u001b[1;31mAttributeError\u001b[0m: 'DataFrame' object has no attribute 'split'"
     ]
    }
   ],
   "source": [
    "#print(date_added_series.head())\n",
    "#Converting data into number\n",
    "#sub_date=date_added_series.str[10:100]\n",
    "#print(sub_date)\n",
    "\n",
    "split_value=[x.strip() for x in  date_added_series.split(',')]\n",
    "\n",
    "print(split_value)"
   ]
  },
  {
   "cell_type": "code",
   "execution_count": 121,
   "metadata": {},
   "outputs": [
    {
     "name": "stdout",
     "output_type": "stream",
     "text": [
      "First 5 records  0                              Chocolate\n",
      "1    Guatemala: Heart of the Mayan World\n",
      "2                        The Zoya Factor\n",
      "3                              Atlantics\n",
      "4                        Chip and Potato\n",
      "Name: title, dtype: object\n",
      "Last 5 records  5832    Mad Ron's Prevues from Hell\n",
      "5833                       Splatter\n",
      "5834        Just Another Love Story\n",
      "5835                Dinner for Five\n",
      "5836           To and From New York\n",
      "Name: title, dtype: object\n",
      "Number of Dimension  1\n",
      "Shape of this Series is   (5837,)\n",
      "Total Count 5837 \n",
      "\n",
      "Checking string in upper or lower 0       False\n",
      "1       False\n",
      "2       False\n",
      "3       False\n",
      "4       False\n",
      "        ...  \n",
      "5832    False\n",
      "5833    False\n",
      "5834    False\n",
      "5835    False\n",
      "5836    False\n",
      "Name: title, Length: 5837, dtype: bool \n",
      "\n",
      "Converting into Upper case 0                                 CHOCOLATE\n",
      "1       GUATEMALA: HEART OF THE MAYAN WORLD\n",
      "2                           THE ZOYA FACTOR\n",
      "3                                 ATLANTICS\n",
      "4                           CHIP AND POTATO\n",
      "                       ...                 \n",
      "5832            MAD RON'S PREVUES FROM HELL\n",
      "5833                               SPLATTER\n",
      "5834                JUST ANOTHER LOVE STORY\n",
      "5835                        DINNER FOR FIVE\n",
      "5836                   TO AND FROM NEW YORK\n",
      "Name: title, Length: 5837, dtype: object \n",
      "\n",
      "Taking out maximum value 최강전사 미니특공대 : 영웅의 탄생 \n",
      "\n",
      "Truncate the Series <bound method NDFrame.truncate of 0                                 Chocolate\n",
      "1       Guatemala: Heart of the Mayan World\n",
      "2                           The Zoya Factor\n",
      "3                                 Atlantics\n",
      "4                           Chip and Potato\n",
      "                       ...                 \n",
      "5832            Mad Ron's Prevues from Hell\n",
      "5833                               Splatter\n",
      "5834                Just Another Love Story\n",
      "5835                        Dinner for Five\n",
      "5836                   To and From New York\n",
      "Name: title, Length: 5837, dtype: object> \n",
      "\n"
     ]
    }
   ],
   "source": [
    "\n",
    "#Performing some baisc operation on series\n",
    "print(\"First 5 records \",title_series.head())\n",
    "print(\"Last 5 records \",title_series.tail())\n",
    "print(\"Number of Dimension \",title_series.ndim)\n",
    "print(\"Shape of this Series is  \", title_series.shape)\n",
    "print(\"Total Count\",title_series.count(),\"\\n\")\n",
    "print(\"Checking string in upper or lower\",title_series.str.islower(),\"\\n\")\n",
    "print(\"Converting into Upper case\",title_series.str.upper(),\"\\n\")\n",
    "print(\"Taking out maximum value\",title_series.max(),\"\\n\")\n",
    "print(\"Truncate the Series\",title_series.truncate,\"\\n\")\n"
   ]
  },
  {
   "cell_type": "code",
   "execution_count": 122,
   "metadata": {},
   "outputs": [
    {
     "name": "stdout",
     "output_type": "stream",
     "text": [
      "Addding new value 0                                 ChocolateAshish Sharma\n",
      "1       Guatemala: Heart of the Mayan WorldAshish Sharma\n",
      "2                           The Zoya FactorAshish Sharma\n",
      "3                                 AtlanticsAshish Sharma\n",
      "4                           Chip and PotatoAshish Sharma\n",
      "                              ...                       \n",
      "5832            Mad Ron's Prevues from HellAshish Sharma\n",
      "5833                               SplatterAshish Sharma\n",
      "5834                Just Another Love StoryAshish Sharma\n",
      "5835                        Dinner for FiveAshish Sharma\n",
      "5836                   To and From New YorkAshish Sharma\n",
      "Name: title, Length: 5837, dtype: object \n",
      "\n"
     ]
    }
   ],
   "source": [
    "#Adding new value\n",
    "print(\"Addding new value\",title_series.add('Ashish Sharma'),\"\\n\")\n",
    "\n",
    "#Exporting Series data into Flat File\n",
    "output_csv_title=pd.DataFrame(title_series.to_csv('C:\\\\Users\\\\assharma\\\\Downloads\\\\netflix-shows\\\\Series_Export '+datetime.now().strftime(\"%d-%m-%Y_%I-%M-%S_%p\") +'.csv',index=False,header=True))\n",
    "\n",
    "#Copying series object\n",
    "new_series=title_series.copy()\n",
    "\n",
    "#Exporting Series data into Flat File\n",
    "output_csv_title_copy=pd.DataFrame(title_series.copy().to_csv('C:\\\\Users\\\\assharma\\\\Downloads\\\\netflix-shows\\\\Copy_Series_Export '+datetime.now().strftime(\"%d-%m-%Y_%I-%M-%S_%p\") +'.csv',index=False,header=True))\n"
   ]
  },
  {
   "cell_type": "code",
   "execution_count": null,
   "metadata": {},
   "outputs": [],
   "source": []
  }
 ],
 "metadata": {
  "kernelspec": {
   "display_name": "Python 3",
   "language": "python",
   "name": "python3"
  },
  "language_info": {
   "codemirror_mode": {
    "name": "ipython",
    "version": 3
   },
   "file_extension": ".py",
   "mimetype": "text/x-python",
   "name": "python",
   "nbconvert_exporter": "python",
   "pygments_lexer": "ipython3",
   "version": "3.7.4"
  },
  "widgets": {
   "application/vnd.jupyter.widget-state+json": {
    "state": {},
    "version_major": 2,
    "version_minor": 0
   }
  }
 },
 "nbformat": 4,
 "nbformat_minor": 2
}
